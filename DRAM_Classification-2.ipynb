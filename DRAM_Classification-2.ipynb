{
  "nbformat": 4,
  "nbformat_minor": 0,
  "metadata": {
    "colab": {
      "name": "DRAM_Classification.ipynb",
      "provenance": [],
      "collapsed_sections": []
    },
    "kernelspec": {
      "name": "python3",
      "display_name": "Python 3"
    }
  },
  "cells": [
    {
      "cell_type": "code",
      "metadata": {
        "id": "NtLS0zGfUrmm",
        "colab_type": "code",
        "colab": {}
      },
      "source": [
        "import os\n",
        "import numpy as np\n",
        "import matplotlib.pyplot as plt\n",
        "import cv2\n",
        "import random\n",
        "import tensorflow as tf\n",
        "from tensorflow.keras.models import Sequential\n",
        "from tensorflow.keras.layers import Dense, Dropout, Activation, Flatten, Conv2D, MaxPooling2D\n",
        "from keras.preprocessing.image import ImageDataGenerator\n",
        "from keras.applications.inception_v3 import preprocess_input"
      ],
      "execution_count": 0,
      "outputs": []
    },
    {
      "cell_type": "code",
      "metadata": {
        "id": "R1GWStYOU_pF",
        "colab_type": "code",
        "colab": {}
      },
      "source": [
        "TRAIN_DATADIR = \"/content/drive/My Drive/CNN/image/train\"\n",
        "TEST_DATADIR = \"/content/drive/My Drive/CNN/image/test\"\n",
        "CATEGORIES = [\"DRAM 1\",\"DRAM 2\",\"DRAM 3\"]"
      ],
      "execution_count": 0,
      "outputs": []
    },
    {
      "cell_type": "code",
      "metadata": {
        "id": "wR4_1WMnWDr3",
        "colab_type": "code",
        "colab": {}
      },
      "source": [
        "def create_training_data(IMG_SIZE):\n",
        "  training_data = []\n",
        "  test_data = []\n",
        "  X_train = []\n",
        "  y_train = []\n",
        "  X_test =  []\n",
        "  y_test =  []\n",
        "\n",
        "  for category in CATEGORIES:\n",
        "    path = os.path.join(TRAIN_DATADIR,category)\n",
        "    class_num = CATEGORIES.index(category)\n",
        "    for img in os.listdir(path):\n",
        "      new_array = cv2.imread(os.path.join(path,img),cv2.IMREAD_GRAYSCALE)\n",
        "      img_array = cv2.resize(new_array,(IMG_SIZE,IMG_SIZE))\n",
        "      training_data.append([img_array,class_num])\n",
        "\n",
        "  \n",
        "  for category in CATEGORIES:\n",
        "    path = os.path.join(TEST_DATADIR,category)\n",
        "    class_num = CATEGORIES.index(category)\n",
        "    for img in os.listdir(path):\n",
        "      new_array = cv2.imread(os.path.join(path,img),cv2.IMREAD_GRAYSCALE)\n",
        "      img_array = cv2.resize(new_array,(IMG_SIZE,IMG_SIZE))\n",
        "      test_data.append([img_array,class_num])\n",
        "\n",
        "  random.shuffle(training_data)\n",
        "  random.shuffle(test_data)\n",
        "\n",
        "  for sample,label in training_data:\n",
        "    X_train.append(sample)\n",
        "    y_train.append(label)\n",
        "  X_train = np.array(X_train).reshape(-1,IMG_SIZE,IMG_SIZE,1)\n",
        "  X_train = X_train / 255.0\n",
        "\n",
        "  for sample,label in test_data:\n",
        "    X_test.append(sample)\n",
        "    y_test.append(label)\n",
        "  X_test = np.array(X_test).reshape(-1,IMG_SIZE,IMG_SIZE,1)\n",
        "  X_test = X_test / 255.0\n",
        "  return [X_train,y_train,X_test,y_test]"
      ],
      "execution_count": 0,
      "outputs": []
    },
    {
      "cell_type": "code",
      "metadata": {
        "id": "tHbY8aTMmn69",
        "colab_type": "code",
        "colab": {}
      },
      "source": [
        "def cnn_model(X):\n",
        "  model = Sequential()\n",
        "  model.add(Conv2D(3,(3,3),strides= (1,1),input_shape = X.shape[1:]))\n",
        "  model.add(Activation(\"relu\"))\n",
        "\n",
        "  model.add(Dropout(0.2))\n",
        "  model.add(Conv2D(64,(3,3),strides= (1,1)))\n",
        "  model.add(Activation(\"relu\"))\n",
        "\n",
        "  model.add(MaxPooling2D(pool_size=(2,2),strides = (2,2)))\n",
        "\n",
        "  model.add(Dropout(0.2))\n",
        "  model.add(Conv2D(128,(3,3),strides= (1,1)))\n",
        "  model.add(Activation(\"relu\"))\n",
        "\n",
        "  model.add(MaxPooling2D(pool_size=(2,2),strides = (2,2)))\n",
        "\n",
        "  model.add(Conv2D(192,(3,3),strides= (1,1)))\n",
        "  model.add(Activation(\"relu\"))\n",
        "\n",
        "  model.add(MaxPooling2D(pool_size=(2,2),strides = (2,2)))\n",
        "  \n",
        "  model.add(Flatten())\n",
        "\n",
        "  model.add(Dense(2048,activation=\"relu\"))\n",
        "  model.add(Dense(3,activation=\"softmax\"))\n",
        "  model.compile(loss=\"sparse_categorical_crossentropy\",optimizer=\"adam\",metrics=['accuracy'])\n",
        "  return model"
      ],
      "execution_count": 0,
      "outputs": []
    },
    {
      "cell_type": "code",
      "metadata": {
        "id": "Um1FRvjr8zJc",
        "colab_type": "code",
        "colab": {}
      },
      "source": [
        "img_size = 64\n",
        "X_train,y_train,X_test,y_test = create_training_data(img_size)"
      ],
      "execution_count": 0,
      "outputs": []
    },
    {
      "cell_type": "code",
      "metadata": {
        "id": "SLxHEOV9ZhZ8",
        "colab_type": "code",
        "outputId": "0f31eece-58a2-48bb-b34e-c0041be0bbae",
        "colab": {
          "base_uri": "https://localhost:8080/",
          "height": 71
        }
      },
      "source": [
        "train_datagen = ImageDataGenerator(width_shift_range = 0.1,\n",
        "                             zca_whitening = True, channel_shift_range=0.1)\n",
        "\n",
        "train_datagen.fit(X_train)\n",
        "\n",
        "test_datagen = ImageDataGenerator(width_shift_range = 0.1,\n",
        "                             zca_whitening = True, channel_shift_range=0.1)\n",
        "test_datagen.fit(X_test)"
      ],
      "execution_count": 0,
      "outputs": [
        {
          "output_type": "stream",
          "text": [
            "/usr/local/lib/python3.6/dist-packages/keras_preprocessing/image/image_data_generator.py:336: UserWarning: This ImageDataGenerator specifies `zca_whitening`, which overrides setting of `featurewise_center`.\n",
            "  warnings.warn('This ImageDataGenerator specifies '\n"
          ],
          "name": "stderr"
        }
      ]
    },
    {
      "cell_type": "code",
      "metadata": {
        "id": "neMznqO6cN3n",
        "colab_type": "code",
        "colab": {}
      },
      "source": [
        "train_generator = train_datagen.flow(X_train,y_train,batch_size = X_train.shape[0],shuffle=True)\n",
        "test_generator = test_datagen.flow(X_test,y_test,batch_size = X_train.shape[0],shuffle = True)"
      ],
      "execution_count": 0,
      "outputs": []
    },
    {
      "cell_type": "code",
      "metadata": {
        "id": "L3HJWo7XcwM2",
        "colab_type": "code",
        "colab": {}
      },
      "source": [
        "augmented_model = cnn_model(X_train)\n",
        "training_details = augmented_model.fit_generator(train_generator,\n",
        "                              steps_per_epoch = 5,\n",
        "                              epochs = 1000,\n",
        "                              validation_data = test_generator,\n",
        "                              validation_steps =5)"
      ],
      "execution_count": 0,
      "outputs": []
    },
    {
      "cell_type": "code",
      "metadata": {
        "id": "bWmxhBf3nVj9",
        "colab_type": "code",
        "colab": {}
      },
      "source": [
        "import matplotlib.pyplot as plt\n",
        "plt.plot(training_details.history['val_acc'])\n",
        "plt.plot(training_details.history['acc'])\n",
        "plt.show()"
      ],
      "execution_count": 0,
      "outputs": []
    },
    {
      "cell_type": "code",
      "metadata": {
        "id": "y2x9FyAqns1r",
        "colab_type": "code",
        "colab": {}
      },
      "source": [
        "import pickle\n",
        "with open('/trainHistoryDict', 'wb') as file_pi:\n",
        "        pickle.dump(training_details.history, file_pi)"
      ],
      "execution_count": 0,
      "outputs": []
    },
    {
      "cell_type": "code",
      "metadata": {
        "id": "CtNBSbnCFCra",
        "colab_type": "code",
        "colab": {}
      },
      "source": [
        "history = pickle.load(open('/trainHistoryDict', \"rb\"))"
      ],
      "execution_count": 0,
      "outputs": []
    }
  ]
}